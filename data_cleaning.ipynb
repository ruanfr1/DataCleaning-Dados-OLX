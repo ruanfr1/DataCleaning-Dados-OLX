{
 "cells": [
  {
   "cell_type": "code",
   "execution_count": 320,
   "metadata": {},
   "outputs": [],
   "source": [
    "#Importando pacotes\n",
    "import pandas as pd\n",
    "import numpy as np"
   ]
  },
  {
   "cell_type": "code",
   "execution_count": 321,
   "metadata": {},
   "outputs": [],
   "source": [
    "#Importando a planilha com os dados como DataFrame\n",
    "dados = pd.read_excel('dados_olx10.xlsx')"
   ]
  },
  {
   "cell_type": "code",
   "execution_count": 322,
   "metadata": {},
   "outputs": [
    {
     "data": {
      "text/html": [
       "<div>\n",
       "<style scoped>\n",
       "    .dataframe tbody tr th:only-of-type {\n",
       "        vertical-align: middle;\n",
       "    }\n",
       "\n",
       "    .dataframe tbody tr th {\n",
       "        vertical-align: top;\n",
       "    }\n",
       "\n",
       "    .dataframe thead th {\n",
       "        text-align: right;\n",
       "    }\n",
       "</style>\n",
       "<table border=\"1\" class=\"dataframe\">\n",
       "  <thead>\n",
       "    <tr style=\"text-align: right;\">\n",
       "      <th></th>\n",
       "      <th>title</th>\n",
       "      <th>price</th>\n",
       "      <th>locations</th>\n",
       "      <th>neighbourhood</th>\n",
       "      <th>municipality</th>\n",
       "      <th>category</th>\n",
       "      <th>rooms</th>\n",
       "      <th>bathrooms</th>\n",
       "    </tr>\n",
       "  </thead>\n",
       "  <tbody>\n",
       "    <tr>\n",
       "      <th>0</th>\n",
       "      <td>Arsenal Imóveis-Casa e vila, para aluguel com ...</td>\n",
       "      <td>R$ 500</td>\n",
       "      <td>NaN</td>\n",
       "      <td>Tribobó</td>\n",
       "      <td>São Gonçalo</td>\n",
       "      <td>Apartamentos</td>\n",
       "      <td>1</td>\n",
       "      <td>1</td>\n",
       "    </tr>\n",
       "    <tr>\n",
       "      <th>1</th>\n",
       "      <td>Arsenal Imóveis-Casa de vila para aluguel  com...</td>\n",
       "      <td>R$ 400</td>\n",
       "      <td>NaN</td>\n",
       "      <td>Tribobó</td>\n",
       "      <td>São Gonçalo</td>\n",
       "      <td>Casas</td>\n",
       "      <td>1</td>\n",
       "      <td>1</td>\n",
       "    </tr>\n",
       "    <tr>\n",
       "      <th>2</th>\n",
       "      <td>GJB IMÓVEIS ALUGA APT NO GRANG HYATT BARRA 1 S...</td>\n",
       "      <td>R$ 16.000</td>\n",
       "      <td>NaN</td>\n",
       "      <td>Barra da Tijuca</td>\n",
       "      <td>Rio de Janeiro</td>\n",
       "      <td>Apartamentos</td>\n",
       "      <td>1</td>\n",
       "      <td>2</td>\n",
       "    </tr>\n",
       "    <tr>\n",
       "      <th>3</th>\n",
       "      <td>Arsenal Imóveis vende- Casa duplex com 1 Suíte...</td>\n",
       "      <td>R$ 210.000</td>\n",
       "      <td>NaN</td>\n",
       "      <td>Arsenal</td>\n",
       "      <td>São Gonçalo</td>\n",
       "      <td>Casas</td>\n",
       "      <td>2</td>\n",
       "      <td>1</td>\n",
       "    </tr>\n",
       "    <tr>\n",
       "      <th>4</th>\n",
       "      <td>Asset Imóveis vende apartamento com 1 dormitór...</td>\n",
       "      <td>R$ 400.000</td>\n",
       "      <td>NaN</td>\n",
       "      <td>Icaraí</td>\n",
       "      <td>Niterói</td>\n",
       "      <td>Apartamentos</td>\n",
       "      <td>1</td>\n",
       "      <td>1</td>\n",
       "    </tr>\n",
       "  </tbody>\n",
       "</table>\n",
       "</div>"
      ],
      "text/plain": [
       "                                               title       price  locations  \\\n",
       "0  Arsenal Imóveis-Casa e vila, para aluguel com ...      R$ 500        NaN   \n",
       "1  Arsenal Imóveis-Casa de vila para aluguel  com...      R$ 400        NaN   \n",
       "2  GJB IMÓVEIS ALUGA APT NO GRANG HYATT BARRA 1 S...   R$ 16.000        NaN   \n",
       "3  Arsenal Imóveis vende- Casa duplex com 1 Suíte...  R$ 210.000        NaN   \n",
       "4  Asset Imóveis vende apartamento com 1 dormitór...  R$ 400.000        NaN   \n",
       "\n",
       "     neighbourhood    municipality      category rooms bathrooms  \n",
       "0          Tribobó     São Gonçalo  Apartamentos     1         1  \n",
       "1          Tribobó     São Gonçalo         Casas     1         1  \n",
       "2  Barra da Tijuca  Rio de Janeiro  Apartamentos     1         2  \n",
       "3          Arsenal     São Gonçalo         Casas     2         1  \n",
       "4           Icaraí         Niterói  Apartamentos     1         1  "
      ]
     },
     "execution_count": 322,
     "metadata": {},
     "output_type": "execute_result"
    }
   ],
   "source": [
    "#Observando a estrutura do DataFrame\n",
    "dados.head()\n"
   ]
  },
  {
   "cell_type": "code",
   "execution_count": 323,
   "metadata": {},
   "outputs": [
    {
     "name": "stdout",
     "output_type": "stream",
     "text": [
      "<class 'pandas.core.frame.DataFrame'>\n",
      "RangeIndex: 27445 entries, 0 to 27444\n",
      "Data columns (total 8 columns):\n",
      " #   Column         Non-Null Count  Dtype  \n",
      "---  ------         --------------  -----  \n",
      " 0   title          24950 non-null  object \n",
      " 1   price          24889 non-null  object \n",
      " 2   locations      0 non-null      float64\n",
      " 3   neighbourhood  24875 non-null  object \n",
      " 4   municipality   24950 non-null  object \n",
      " 5   category       24950 non-null  object \n",
      " 6   rooms          20122 non-null  object \n",
      " 7   bathrooms      20102 non-null  object \n",
      "dtypes: float64(1), object(7)\n",
      "memory usage: 1.7+ MB\n"
     ]
    }
   ],
   "source": [
    "dados.info()"
   ]
  },
  {
   "cell_type": "code",
   "execution_count": 324,
   "metadata": {},
   "outputs": [
    {
     "name": "stdout",
     "output_type": "stream",
     "text": [
      "O DataFrame possui: 27445 linhas\n",
      "O DataFrame possui: 8 colunas\n"
     ]
    }
   ],
   "source": [
    "#Quantidade de linhas do DataFrame\n",
    "print(f'O DataFrame possui: {dados.shape[0]} linhas')\n",
    "#Quantidade de colunas do DataFrame\n",
    "print(f'O DataFrame possui: {dados.shape[1]} colunas')"
   ]
  },
  {
   "cell_type": "markdown",
   "metadata": {},
   "source": [
    "Como podemos ver, possuem mais linhas do que valores de fato, isso se deve as linhas completamente em branco."
   ]
  },
  {
   "cell_type": "code",
   "execution_count": 325,
   "metadata": {},
   "outputs": [],
   "source": [
    "#Primeiramente serão removidas as linhas em branco.\n",
    "#Para garantir que o dropna vai remover todas as linhas em branco, vamos substituir as strings vazias por NaN\n",
    "dados_sem_linha_em_branco = dados.replace('', np.nan)\n",
    "dados_sem_linha_em_branco = dados.dropna(how='all')"
   ]
  },
  {
   "cell_type": "code",
   "execution_count": 326,
   "metadata": {},
   "outputs": [
    {
     "name": "stdout",
     "output_type": "stream",
     "text": [
      "Foram removidas 2495 linhas\n"
     ]
    }
   ],
   "source": [
    "#Vamos verificar se de fato alguma linha foi removida\n",
    "print(f'Foram removidas {dados.shape[0]- dados_sem_linha_em_branco.shape[0]} linhas')"
   ]
  },
  {
   "cell_type": "code",
   "execution_count": 327,
   "metadata": {},
   "outputs": [],
   "source": [
    "#Como vimos acima, 2495 linhas em branco foram removidas do DataFrame.\n",
    "#Para não precisar utilizar um nome tão grande para o nosso DataFrame, vamos voltar a chamá-lo de dados.\n",
    "dados = dados_sem_linha_em_branco.copy()"
   ]
  },
  {
   "cell_type": "code",
   "execution_count": 328,
   "metadata": {},
   "outputs": [
    {
     "name": "stdout",
     "output_type": "stream",
     "text": [
      "<class 'pandas.core.frame.DataFrame'>\n",
      "Index: 24950 entries, 0 to 27444\n",
      "Data columns (total 8 columns):\n",
      " #   Column         Non-Null Count  Dtype  \n",
      "---  ------         --------------  -----  \n",
      " 0   title          24950 non-null  object \n",
      " 1   price          24889 non-null  object \n",
      " 2   locations      0 non-null      float64\n",
      " 3   neighbourhood  24875 non-null  object \n",
      " 4   municipality   24950 non-null  object \n",
      " 5   category       24950 non-null  object \n",
      " 6   rooms          20122 non-null  object \n",
      " 7   bathrooms      20102 non-null  object \n",
      "dtypes: float64(1), object(7)\n",
      "memory usage: 1.7+ MB\n"
     ]
    }
   ],
   "source": [
    "dados.info()"
   ]
  },
  {
   "cell_type": "code",
   "execution_count": 329,
   "metadata": {},
   "outputs": [],
   "source": [
    "dados = dados.reset_index(drop = True)"
   ]
  },
  {
   "cell_type": "code",
   "execution_count": 330,
   "metadata": {},
   "outputs": [
    {
     "name": "stdout",
     "output_type": "stream",
     "text": [
      "<class 'pandas.core.frame.DataFrame'>\n",
      "RangeIndex: 24950 entries, 0 to 24949\n",
      "Data columns (total 8 columns):\n",
      " #   Column         Non-Null Count  Dtype  \n",
      "---  ------         --------------  -----  \n",
      " 0   title          24950 non-null  object \n",
      " 1   price          24889 non-null  object \n",
      " 2   locations      0 non-null      float64\n",
      " 3   neighbourhood  24875 non-null  object \n",
      " 4   municipality   24950 non-null  object \n",
      " 5   category       24950 non-null  object \n",
      " 6   rooms          20122 non-null  object \n",
      " 7   bathrooms      20102 non-null  object \n",
      "dtypes: float64(1), object(7)\n",
      "memory usage: 1.5+ MB\n"
     ]
    }
   ],
   "source": [
    "dados.info()"
   ]
  },
  {
   "cell_type": "code",
   "execution_count": 331,
   "metadata": {},
   "outputs": [
    {
     "name": "stdout",
     "output_type": "stream",
     "text": [
      "Fora removidas: 9021 restando: 15929\n"
     ]
    }
   ],
   "source": [
    "#Vamos trabalhar apenas com o municipio do Rio de Janeiro, então precisamos filtrar\n",
    "dados = dados[dados['municipality'] == 'Rio de Janeiro']\n",
    "print(f'Fora removidas: {24950-dados.shape[0]} restando: {dados.shape[0]}')"
   ]
  },
  {
   "cell_type": "code",
   "execution_count": 332,
   "metadata": {},
   "outputs": [],
   "source": [
    "#Vamos remover algumas colunas desnecessárias do DataFrame.\n",
    "#Como a coluna 'locations' possui apenas entradas NaN, ela vai ser removida.\n",
    "#Como todos os dados são referentes a cidade do Rio de Janeiro. A coluna que identifica  a cidade será removida.\n",
    "#Sendo ela: 'municipality'.\n",
    "dados = dados.drop(columns=['locations','municipality'])"
   ]
  },
  {
   "cell_type": "code",
   "execution_count": 333,
   "metadata": {},
   "outputs": [
    {
     "name": "stdout",
     "output_type": "stream",
     "text": [
      "                                               title       price  \\\n",
      "2  GJB IMÓVEIS ALUGA APT NO GRANG HYATT BARRA 1 S...   R$ 16.000   \n",
      "5  Privilegio Imóveis vende: Excelente apartament...  R$ 870.000   \n",
      "6  Privilegio Imóveis vende: Excelente apartament...  R$ 870.000   \n",
      "7  GJB IMÓVEIS VENDE LINDO  APT  RECREIO SALA AMP...  R$ 690.000   \n",
      "8  GJB IMÓVEIS VENDE  LINDO APT NO RECREIO ,  3 q...  R$ 870.000   \n",
      "\n",
      "              neighbourhood      category rooms bathrooms  \n",
      "2           Barra da Tijuca  Apartamentos     1         2  \n",
      "5                  Botafogo  Apartamentos     1         1  \n",
      "6                  Botafogo  Apartamentos     1         1  \n",
      "7  Recreio dos Bandeirantes  Apartamentos     3         2  \n",
      "8  Recreio dos Bandeirantes  Apartamentos     3         3  \n"
     ]
    }
   ],
   "source": [
    "#Agora o DataFrame ficou da seguinte forma\n",
    "print(dados.head())"
   ]
  },
  {
   "cell_type": "markdown",
   "metadata": {},
   "source": [
    "Agora serão removidas as linhas que possuem todas as colunas iguais exceto o 'price', pois se referem ao mesmo produto. O anunciantes costumam repostar o mesmo produto na plataforma e apenas mudar o preço. Será mantida a ultima informação por ser a mais atualizada."
   ]
  },
  {
   "cell_type": "code",
   "execution_count": 334,
   "metadata": {},
   "outputs": [],
   "source": [
    "#Removendo linhas com a mesma informação exceto o preço\n",
    "#Obtendo lista com o nome das colunas \n",
    "colunas =  list(dados.columns)\n",
    "#Removendo o preço desta lista\n",
    "colunas.remove('price')\n",
    "#Removendo as linhas com a mesma informação e mantendo a mais atual.\n",
    "dados_sem_duplicadas = dados.drop_duplicates(subset=colunas, keep='last') "
   ]
  },
  {
   "cell_type": "code",
   "execution_count": 335,
   "metadata": {},
   "outputs": [
    {
     "name": "stdout",
     "output_type": "stream",
     "text": [
      "Número de linhas do DataFrame com as duplicadas: 15929\n",
      "Número de linhas do DataFrame após remover as duplicadas: 13336\n",
      "foram removidas 2593 linhas\n"
     ]
    }
   ],
   "source": [
    "#Número de linhas com as duplicadas\n",
    "print(f'Número de linhas do DataFrame com as duplicadas: {dados.shape[0]}')\n",
    "#Número de linhas sem as duplicadas\n",
    "print(f'Número de linhas do DataFrame após remover as duplicadas: {dados_sem_duplicadas.shape[0]}')\n",
    "#Número de linhas removidas\n",
    "numero_de_linhas_removidas = dados.shape[0]-dados_sem_duplicadas.shape[0]\n",
    "print(f'foram removidas {numero_de_linhas_removidas} linhas')"
   ]
  },
  {
   "cell_type": "code",
   "execution_count": 336,
   "metadata": {},
   "outputs": [],
   "source": [
    "#Para não ficar com um DataFrame que possui nome grande. Passaremos a chamar o 'dados_sem_duplicadas' apenas de dados\n",
    "dados = dados_sem_duplicadas.copy()"
   ]
  },
  {
   "cell_type": "code",
   "execution_count": 337,
   "metadata": {},
   "outputs": [
    {
     "name": "stdout",
     "output_type": "stream",
     "text": [
      "<class 'pandas.core.frame.DataFrame'>\n",
      "RangeIndex: 13336 entries, 0 to 13335\n",
      "Data columns (total 6 columns):\n",
      " #   Column         Non-Null Count  Dtype \n",
      "---  ------         --------------  ----- \n",
      " 0   title          13336 non-null  object\n",
      " 1   price          13308 non-null  object\n",
      " 2   neighbourhood  13336 non-null  object\n",
      " 3   category       13336 non-null  object\n",
      " 4   rooms          11507 non-null  object\n",
      " 5   bathrooms      11497 non-null  object\n",
      "dtypes: object(6)\n",
      "memory usage: 625.3+ KB\n"
     ]
    }
   ],
   "source": [
    "dados = dados.reset_index(drop = True)\n",
    "dados.info()"
   ]
  },
  {
   "cell_type": "code",
   "execution_count": 338,
   "metadata": {},
   "outputs": [
    {
     "name": "stdout",
     "output_type": "stream",
     "text": [
      "        price             neighbourhood      category rooms bathrooms\n",
      "0  R$ 870.000                  Botafogo  Apartamentos     1         1\n",
      "1  R$ 670.000               Jacarepaguá  Apartamentos     2         2\n",
      "2  R$ 690.000  Recreio dos Bandeirantes  Apartamentos     2         2\n",
      "3  R$ 500.000                Copacabana  Apartamentos     1         2\n",
      "4   R$ 22.000                Santa Cruz         Casas     2         1\n"
     ]
    }
   ],
   "source": [
    "#Como temos inicialmente o objetivo de ajustar um modelo de regressão, a coluna 'title' não será útil por não possuir um padrão, logo será removida.\n",
    "dados = dados.drop(columns='title')\n",
    "print(dados.head())"
   ]
  },
  {
   "cell_type": "code",
   "execution_count": 339,
   "metadata": {},
   "outputs": [
    {
     "name": "stdout",
     "output_type": "stream",
     "text": [
      "['Botafogo' 'Jacarepaguá' 'Recreio dos Bandeirantes' 'Copacabana'\n",
      " 'Santa Cruz' 'Parque Anchieta' 'Campo Grande' 'Santíssimo' 'Guaratiba'\n",
      " 'Freguesia (Jacarepaguá)' 'Laranjeiras' 'Ipanema' 'Flamengo' 'Pechincha'\n",
      " 'Tijuca' 'Campinho' 'Leblon' 'São Conrado' 'Barra da Tijuca' 'Taquara'\n",
      " 'Vidigal' 'Andaraí' 'São Cristóvão' 'Anchieta' 'Humaitá' 'Anil' 'Gamboa'\n",
      " 'Maracanã' 'Bangu' 'Praça Seca' 'Cachambi' 'Marechal Hermes' 'Sepetiba'\n",
      " 'Centro' 'Paciência' 'Itanhangá' 'Vargem Grande' 'Cosme Velho'\n",
      " 'Vicente de Carvalho' 'Engenho de Dentro' 'Curicica' 'Rio Comprido'\n",
      " 'Jardim Guanabara' 'Oswaldo Cruz' 'Irajá' 'Cidade Nova' 'Tomás Coelho'\n",
      " 'Urca' 'Alto da Boa Vista' 'Jardim Botânico' 'Grajaú' 'Glória' 'Piedade'\n",
      " 'Santa Teresa' 'Méier' 'Madureira' 'Gávea' 'Pedra de Guaratiba'\n",
      " 'Vila Isabel' 'Magalhães Bastos' 'Senador Camará' 'Catete' 'Olaria'\n",
      " 'Vargem Pequena' 'Braz de Pina' 'Maria da Graça' 'Realengo' 'Encantado'\n",
      " 'Senador Vasconcelos' 'Saúde' 'Engenheiro Leal' 'Cascadura'\n",
      " 'Rocha Miranda' 'Leme' 'Pilares' 'Santo Cristo' 'Riachuelo'\n",
      " 'Engenho Novo' 'Bonsucesso' 'Todos os Santos' 'Del Castilho' 'Tanque'\n",
      " 'Tauá' 'Lins de Vasconcelos' 'Cidade de Deus' 'Vila Valqueire'\n",
      " 'Jardim Carioca' 'Cordovil' 'Ramos' 'Parada de Lucas' 'Engenho da Rainha'\n",
      " 'Penha' 'Vila Kosmos' 'Lagoa' 'Estácio' 'Inhoaíba' 'Benfica'\n",
      " 'Higienópolis' 'Cosmos' 'Bancários' 'Camorim' 'Colégio' 'Guadalupe'\n",
      " 'Cavalcanti' 'Bento Ribeiro' 'Catumbi' 'Barros Filho' 'Zumbi' 'Pavuna'\n",
      " 'Cocotá' 'Inhaúma' 'Sampaio' 'Jardim Sulacap' 'Turiaçu'\n",
      " 'Praça da Bandeira' 'Quintino Bocaiúva' 'Vila da Penha' 'Penha Circular'\n",
      " 'Portuguesa' 'São Francisco Xavier' 'Freguesia (Ilha do Governador)'\n",
      " 'Padre Miguel' 'Ribeira' 'Parque Colúmbia' 'Recreio Dos Bandeirantes'\n",
      " 'Praia da Bandeira' 'Manguinhos' 'Vaz Lobo' 'Moneró' 'Pitangueiras'\n",
      " 'Vista Alegre' 'Vasco da Gama' 'Honório Gurgel' 'Ricardo de Albuquerque'\n",
      " 'Joá' 'Gardênia Azul' 'Água Santa' 'Paquetá' 'Jardim América'\n",
      " 'Barra de Guaratiba' 'Campo dos Afonsos' 'Cacuia' 'Abolição' 'Rocha'\n",
      " 'Vigário Geral']\n"
     ]
    }
   ],
   "source": [
    "#A coluna neighbourhood possui muitas categorias, e isso é um problema na hora de ajustar um modelo. \n",
    "#Para resolver este problema será feita uma nova categorização da variável.\n",
    "bairros = dados['neighbourhood'].unique()\n",
    "print(bairros)\n"
   ]
  },
  {
   "cell_type": "code",
   "execution_count": 340,
   "metadata": {},
   "outputs": [
    {
     "name": "stdout",
     "output_type": "stream",
     "text": [
      "A coluna neighbourhood possui: 145 entradas distintas \n"
     ]
    }
   ],
   "source": [
    "print(f'A coluna neighbourhood possui: {len(bairros)} entradas distintas ')"
   ]
  },
  {
   "cell_type": "markdown",
   "metadata": {},
   "source": [
    "Como possuem 145 bairros, seria muito trabalhoso fazer isso manualmente. Então será importada uma tabela com as informações dos bairros e a região ao qual eles pertencem que são 4. A coluna/variável com a região será utilizada no lugar do bairro na hora de fazer o modelo de regressão."
   ]
  },
  {
   "cell_type": "code",
   "execution_count": 341,
   "metadata": {},
   "outputs": [
    {
     "name": "stdout",
     "output_type": "stream",
     "text": [
      "[      Nº          Bairro              R.A      Região      IDS\n",
      "0      1           Lagoa            Lagoa    Zona Sul    0.854\n",
      "1      2          Leblon            Lagoa    Zona Sul  809.000\n",
      "2      3         Ipanema            Lagoa    Zona Sul  801.000\n",
      "3      4         Humaitá         Botafogo    Zona Sul  798.000\n",
      "4      5            Urca         Botafogo    Zona Sul  795.000\n",
      "..   ...             ...              ...         ...      ...\n",
      "153  154       Guaratiba        Guaratiba  Zona Oeste  433.000\n",
      "154  155  Vargem Pequena  Barra da Tijuca  Zona Oeste  425.000\n",
      "155  156   Vargem Grande  Barra da Tijuca  Zona Oeste  408.000\n",
      "156  157         Camorim      Jacarepaguá  Zona Oeste  369.000\n",
      "157  158         Grumari  Barra da Tijuca  Zona Oeste  277.000\n",
      "\n",
      "[158 rows x 5 columns]]\n"
     ]
    }
   ],
   "source": [
    "#Importando a tabela da wikipedia\n",
    "url = 'https://pt.wikipedia.org/wiki/Lista_de_bairros_do_Rio_de_Janeiro_por_%C3%8Dndice_de_Desenvolvimento_Social'\n",
    "html = pd.read_html(url, match='Bairro')\n",
    "print(html)"
   ]
  },
  {
   "cell_type": "code",
   "execution_count": 342,
   "metadata": {},
   "outputs": [
    {
     "name": "stdout",
     "output_type": "stream",
     "text": [
      "      Nº          Bairro              R.A      Região      IDS\n",
      "0      1           Lagoa            Lagoa    Zona Sul    0.854\n",
      "1      2          Leblon            Lagoa    Zona Sul  809.000\n",
      "2      3         Ipanema            Lagoa    Zona Sul  801.000\n",
      "3      4         Humaitá         Botafogo    Zona Sul  798.000\n",
      "4      5            Urca         Botafogo    Zona Sul  795.000\n",
      "..   ...             ...              ...         ...      ...\n",
      "153  154       Guaratiba        Guaratiba  Zona Oeste  433.000\n",
      "154  155  Vargem Pequena  Barra da Tijuca  Zona Oeste  425.000\n",
      "155  156   Vargem Grande  Barra da Tijuca  Zona Oeste  408.000\n",
      "156  157         Camorim      Jacarepaguá  Zona Oeste  369.000\n",
      "157  158         Grumari  Barra da Tijuca  Zona Oeste  277.000\n",
      "\n",
      "[158 rows x 5 columns]\n"
     ]
    }
   ],
   "source": [
    "#Passando o conteúdo do html para o dataframe dados_bairros\n",
    "type(html)\n",
    "dados_bairros=html[0]\n",
    "type(dados_bairros)\n",
    "print(dados_bairros)"
   ]
  },
  {
   "cell_type": "code",
   "execution_count": 343,
   "metadata": {},
   "outputs": [],
   "source": [
    "#Salvando o dados_bairros em um planilha para não precisar fazer o scrapping sempre\n",
    "dados_bairros.to_excel('dados_bairros_rj.xlsx', index=False)"
   ]
  },
  {
   "cell_type": "code",
   "execution_count": 344,
   "metadata": {},
   "outputs": [],
   "source": [
    "#importando a planilha para ter certeza que funcionou\n",
    "dados_bairros = pd.read_excel('dados_bairros_rj.xlsx')"
   ]
  },
  {
   "cell_type": "code",
   "execution_count": 345,
   "metadata": {},
   "outputs": [
    {
     "data": {
      "text/html": [
       "<div>\n",
       "<style scoped>\n",
       "    .dataframe tbody tr th:only-of-type {\n",
       "        vertical-align: middle;\n",
       "    }\n",
       "\n",
       "    .dataframe tbody tr th {\n",
       "        vertical-align: top;\n",
       "    }\n",
       "\n",
       "    .dataframe thead th {\n",
       "        text-align: right;\n",
       "    }\n",
       "</style>\n",
       "<table border=\"1\" class=\"dataframe\">\n",
       "  <thead>\n",
       "    <tr style=\"text-align: right;\">\n",
       "      <th></th>\n",
       "      <th>Nº</th>\n",
       "      <th>Bairro</th>\n",
       "      <th>R.A</th>\n",
       "      <th>Região</th>\n",
       "      <th>IDS</th>\n",
       "    </tr>\n",
       "  </thead>\n",
       "  <tbody>\n",
       "    <tr>\n",
       "      <th>0</th>\n",
       "      <td>1</td>\n",
       "      <td>Lagoa</td>\n",
       "      <td>Lagoa</td>\n",
       "      <td>Zona Sul</td>\n",
       "      <td>0.854</td>\n",
       "    </tr>\n",
       "    <tr>\n",
       "      <th>1</th>\n",
       "      <td>2</td>\n",
       "      <td>Leblon</td>\n",
       "      <td>Lagoa</td>\n",
       "      <td>Zona Sul</td>\n",
       "      <td>809.000</td>\n",
       "    </tr>\n",
       "    <tr>\n",
       "      <th>2</th>\n",
       "      <td>3</td>\n",
       "      <td>Ipanema</td>\n",
       "      <td>Lagoa</td>\n",
       "      <td>Zona Sul</td>\n",
       "      <td>801.000</td>\n",
       "    </tr>\n",
       "    <tr>\n",
       "      <th>3</th>\n",
       "      <td>4</td>\n",
       "      <td>Humaitá</td>\n",
       "      <td>Botafogo</td>\n",
       "      <td>Zona Sul</td>\n",
       "      <td>798.000</td>\n",
       "    </tr>\n",
       "    <tr>\n",
       "      <th>4</th>\n",
       "      <td>5</td>\n",
       "      <td>Urca</td>\n",
       "      <td>Botafogo</td>\n",
       "      <td>Zona Sul</td>\n",
       "      <td>795.000</td>\n",
       "    </tr>\n",
       "  </tbody>\n",
       "</table>\n",
       "</div>"
      ],
      "text/plain": [
       "   Nº   Bairro       R.A    Região      IDS\n",
       "0   1    Lagoa     Lagoa  Zona Sul    0.854\n",
       "1   2   Leblon     Lagoa  Zona Sul  809.000\n",
       "2   3  Ipanema     Lagoa  Zona Sul  801.000\n",
       "3   4  Humaitá  Botafogo  Zona Sul  798.000\n",
       "4   5     Urca  Botafogo  Zona Sul  795.000"
      ]
     },
     "execution_count": 345,
     "metadata": {},
     "output_type": "execute_result"
    }
   ],
   "source": [
    "dados_bairros.head()"
   ]
  },
  {
   "cell_type": "code",
   "execution_count": 346,
   "metadata": {},
   "outputs": [],
   "source": [
    "#Renomeando as colunas do df inicial para que seja feito posteriormente uma junção dos dois dataframes\n",
    "dados = dados.rename(columns={'price':'Preço','category':'Categoria','rooms':'Quartos','bathrooms':'Banheiros','neighbourhood':'Bairro'})"
   ]
  },
  {
   "cell_type": "code",
   "execution_count": 347,
   "metadata": {},
   "outputs": [
    {
     "data": {
      "text/html": [
       "<div>\n",
       "<style scoped>\n",
       "    .dataframe tbody tr th:only-of-type {\n",
       "        vertical-align: middle;\n",
       "    }\n",
       "\n",
       "    .dataframe tbody tr th {\n",
       "        vertical-align: top;\n",
       "    }\n",
       "\n",
       "    .dataframe thead th {\n",
       "        text-align: right;\n",
       "    }\n",
       "</style>\n",
       "<table border=\"1\" class=\"dataframe\">\n",
       "  <thead>\n",
       "    <tr style=\"text-align: right;\">\n",
       "      <th></th>\n",
       "      <th>Preço</th>\n",
       "      <th>Bairro</th>\n",
       "      <th>Categoria</th>\n",
       "      <th>Quartos</th>\n",
       "      <th>Banheiros</th>\n",
       "    </tr>\n",
       "  </thead>\n",
       "  <tbody>\n",
       "    <tr>\n",
       "      <th>0</th>\n",
       "      <td>R$ 870.000</td>\n",
       "      <td>Botafogo</td>\n",
       "      <td>Apartamentos</td>\n",
       "      <td>1</td>\n",
       "      <td>1</td>\n",
       "    </tr>\n",
       "    <tr>\n",
       "      <th>1</th>\n",
       "      <td>R$ 670.000</td>\n",
       "      <td>Jacarepaguá</td>\n",
       "      <td>Apartamentos</td>\n",
       "      <td>2</td>\n",
       "      <td>2</td>\n",
       "    </tr>\n",
       "    <tr>\n",
       "      <th>2</th>\n",
       "      <td>R$ 690.000</td>\n",
       "      <td>Recreio dos Bandeirantes</td>\n",
       "      <td>Apartamentos</td>\n",
       "      <td>2</td>\n",
       "      <td>2</td>\n",
       "    </tr>\n",
       "    <tr>\n",
       "      <th>3</th>\n",
       "      <td>R$ 500.000</td>\n",
       "      <td>Copacabana</td>\n",
       "      <td>Apartamentos</td>\n",
       "      <td>1</td>\n",
       "      <td>2</td>\n",
       "    </tr>\n",
       "    <tr>\n",
       "      <th>4</th>\n",
       "      <td>R$ 22.000</td>\n",
       "      <td>Santa Cruz</td>\n",
       "      <td>Casas</td>\n",
       "      <td>2</td>\n",
       "      <td>1</td>\n",
       "    </tr>\n",
       "  </tbody>\n",
       "</table>\n",
       "</div>"
      ],
      "text/plain": [
       "        Preço                    Bairro     Categoria Quartos Banheiros\n",
       "0  R$ 870.000                  Botafogo  Apartamentos       1         1\n",
       "1  R$ 670.000               Jacarepaguá  Apartamentos       2         2\n",
       "2  R$ 690.000  Recreio dos Bandeirantes  Apartamentos       2         2\n",
       "3  R$ 500.000                Copacabana  Apartamentos       1         2\n",
       "4   R$ 22.000                Santa Cruz         Casas       2         1"
      ]
     },
     "execution_count": 347,
     "metadata": {},
     "output_type": "execute_result"
    }
   ],
   "source": [
    "#Novo nome das colunas\n",
    "dados.head()"
   ]
  },
  {
   "cell_type": "code",
   "execution_count": 348,
   "metadata": {},
   "outputs": [
    {
     "name": "stdout",
     "output_type": "stream",
     "text": [
      "        Preço                    Bairro     Categoria Quartos Banheiros  \\\n",
      "0  R$ 870.000                  Botafogo  Apartamentos       1         1   \n",
      "1  R$ 670.000               Jacarepaguá  Apartamentos       2         2   \n",
      "2  R$ 690.000  Recreio dos Bandeirantes  Apartamentos       2         2   \n",
      "3  R$ 500.000                Copacabana  Apartamentos       1         2   \n",
      "4   R$ 22.000                Santa Cruz         Casas       2         1   \n",
      "\n",
      "      Nº              R.A      Região    IDS  \n",
      "0   16.0         Botafogo    Zona Sul  743.0  \n",
      "1  148.0      Jacarepaguá  Zona Oeste  476.0  \n",
      "2   56.0  Barra da Tijuca  Zona Oeste  612.0  \n",
      "3   14.0       Copacabana    Zona Sul  753.0  \n",
      "4  147.0       Santa Cruz  Zona Oeste  476.0  \n"
     ]
    }
   ],
   "source": [
    "#Merge dos dois dataframes com a intenção de obter a coluna/variável 'Região'\n",
    "df_merged = pd.merge(left=dados, right=dados_bairros, how=\"left\", on=\"Bairro\")\n",
    "print(df_merged.head())"
   ]
  },
  {
   "cell_type": "code",
   "execution_count": 349,
   "metadata": {},
   "outputs": [
    {
     "data": {
      "text/html": [
       "<div>\n",
       "<style scoped>\n",
       "    .dataframe tbody tr th:only-of-type {\n",
       "        vertical-align: middle;\n",
       "    }\n",
       "\n",
       "    .dataframe tbody tr th {\n",
       "        vertical-align: top;\n",
       "    }\n",
       "\n",
       "    .dataframe thead th {\n",
       "        text-align: right;\n",
       "    }\n",
       "</style>\n",
       "<table border=\"1\" class=\"dataframe\">\n",
       "  <thead>\n",
       "    <tr style=\"text-align: right;\">\n",
       "      <th></th>\n",
       "      <th>Preço</th>\n",
       "      <th>Bairro</th>\n",
       "      <th>Categoria</th>\n",
       "      <th>Quartos</th>\n",
       "      <th>Banheiros</th>\n",
       "      <th>Nº</th>\n",
       "      <th>R.A</th>\n",
       "      <th>Região</th>\n",
       "      <th>IDS</th>\n",
       "    </tr>\n",
       "  </thead>\n",
       "  <tbody>\n",
       "    <tr>\n",
       "      <th>0</th>\n",
       "      <td>R$ 870.000</td>\n",
       "      <td>Botafogo</td>\n",
       "      <td>Apartamentos</td>\n",
       "      <td>1</td>\n",
       "      <td>1</td>\n",
       "      <td>16.0</td>\n",
       "      <td>Botafogo</td>\n",
       "      <td>Zona Sul</td>\n",
       "      <td>743.0</td>\n",
       "    </tr>\n",
       "    <tr>\n",
       "      <th>1</th>\n",
       "      <td>R$ 670.000</td>\n",
       "      <td>Jacarepaguá</td>\n",
       "      <td>Apartamentos</td>\n",
       "      <td>2</td>\n",
       "      <td>2</td>\n",
       "      <td>148.0</td>\n",
       "      <td>Jacarepaguá</td>\n",
       "      <td>Zona Oeste</td>\n",
       "      <td>476.0</td>\n",
       "    </tr>\n",
       "    <tr>\n",
       "      <th>2</th>\n",
       "      <td>R$ 690.000</td>\n",
       "      <td>Recreio dos Bandeirantes</td>\n",
       "      <td>Apartamentos</td>\n",
       "      <td>2</td>\n",
       "      <td>2</td>\n",
       "      <td>56.0</td>\n",
       "      <td>Barra da Tijuca</td>\n",
       "      <td>Zona Oeste</td>\n",
       "      <td>612.0</td>\n",
       "    </tr>\n",
       "    <tr>\n",
       "      <th>3</th>\n",
       "      <td>R$ 500.000</td>\n",
       "      <td>Copacabana</td>\n",
       "      <td>Apartamentos</td>\n",
       "      <td>1</td>\n",
       "      <td>2</td>\n",
       "      <td>14.0</td>\n",
       "      <td>Copacabana</td>\n",
       "      <td>Zona Sul</td>\n",
       "      <td>753.0</td>\n",
       "    </tr>\n",
       "    <tr>\n",
       "      <th>4</th>\n",
       "      <td>R$ 22.000</td>\n",
       "      <td>Santa Cruz</td>\n",
       "      <td>Casas</td>\n",
       "      <td>2</td>\n",
       "      <td>1</td>\n",
       "      <td>147.0</td>\n",
       "      <td>Santa Cruz</td>\n",
       "      <td>Zona Oeste</td>\n",
       "      <td>476.0</td>\n",
       "    </tr>\n",
       "  </tbody>\n",
       "</table>\n",
       "</div>"
      ],
      "text/plain": [
       "        Preço                    Bairro     Categoria Quartos Banheiros  \\\n",
       "0  R$ 870.000                  Botafogo  Apartamentos       1         1   \n",
       "1  R$ 670.000               Jacarepaguá  Apartamentos       2         2   \n",
       "2  R$ 690.000  Recreio dos Bandeirantes  Apartamentos       2         2   \n",
       "3  R$ 500.000                Copacabana  Apartamentos       1         2   \n",
       "4   R$ 22.000                Santa Cruz         Casas       2         1   \n",
       "\n",
       "      Nº              R.A      Região    IDS  \n",
       "0   16.0         Botafogo    Zona Sul  743.0  \n",
       "1  148.0      Jacarepaguá  Zona Oeste  476.0  \n",
       "2   56.0  Barra da Tijuca  Zona Oeste  612.0  \n",
       "3   14.0       Copacabana    Zona Sul  753.0  \n",
       "4  147.0       Santa Cruz  Zona Oeste  476.0  "
      ]
     },
     "execution_count": 349,
     "metadata": {},
     "output_type": "execute_result"
    }
   ],
   "source": [
    "df_merged.head()"
   ]
  },
  {
   "cell_type": "code",
   "execution_count": 350,
   "metadata": {},
   "outputs": [
    {
     "name": "stdout",
     "output_type": "stream",
     "text": [
      "5\n",
      "['Zona Sul' 'Zona Oeste' 'Zona Norte' 'Zona Central' nan]\n"
     ]
    }
   ],
   "source": [
    "#Checkando se realmente a coluna região possui apenas 4 entradas únicas (Zona Central,Zona Norte, Zona Oeste e Zona Sul)\n",
    "print(len(df_merged['Região'].unique()))\n",
    "print(df_merged['Região'].unique())"
   ]
  },
  {
   "cell_type": "markdown",
   "metadata": {},
   "source": [
    "Como podemos ver, nem todos os nomes de bairros estavam contidos no dados_bairros.\n",
    "Será necessário ver os bairros que não foram classificados em uma região e classificar manualmente."
   ]
  },
  {
   "cell_type": "code",
   "execution_count": 351,
   "metadata": {},
   "outputs": [
    {
     "name": "stdout",
     "output_type": "stream",
     "text": [
      "['Maracanã' 'Braz de Pina' 'Senador Vasconcelos' 'Lins de Vasconcelos'\n",
      " 'Vila Kosmos' 'Parque Colúmbia' 'Recreio Dos Bandeirantes'\n",
      " 'Vasco da Gama']\n"
     ]
    }
   ],
   "source": [
    "linhas_nan = df_merged[df_merged['Região'].isna()]\n",
    "print(linhas_nan['Bairro'].unique())"
   ]
  },
  {
   "cell_type": "markdown",
   "metadata": {},
   "source": [
    "Os bairros que não estavam contidos na lista do DataFrame dados_bairros são: 'Maracanã', 'Braz de Pina', 'Senador Vasconcelos', 'Lins de Vasconcelos','Vila Kosmos', 'Parque Colúmbia' 'Recreio Dos Bandeirantes', 'Vasco da Gama'"
   ]
  },
  {
   "cell_type": "markdown",
   "metadata": {},
   "source": [
    "Vamos procurar por um pedaço do nome do bairro e ver se não estão contidos ou se o problema é a grafia."
   ]
  },
  {
   "cell_type": "code",
   "execution_count": 352,
   "metadata": {},
   "outputs": [
    {
     "name": "stdout",
     "output_type": "stream",
     "text": [
      "Resultados encontrados:\n",
      "Maracanâ\n",
      "Vila Isabel\n",
      "Vila Valqueire\n",
      "Vila da Penha\n",
      "Lins de Vasconcellos\n",
      "Lins de Vasconcellos\n",
      "Recreio dos Bandeirantes\n",
      "Vila Cosmos\n",
      "Vila Militar\n",
      "Brás de Pina\n",
      "Parque Anchieta\n",
      "Parque Columbia\n",
      "Senador Vasconcellos\n",
      "Senador Vasconcellos\n",
      "Senador Camará\n"
     ]
    }
   ],
   "source": [
    "bairros_dados_bairros=dados_bairros['Bairro'].unique()\n",
    "\n",
    "# Termos a serem procurados\n",
    "termos_procurados = [\"Mara\", \"Pina\",\"Lin\",\"Vila\",'Sena','Parque','Recreio','Gama','Vasco']\n",
    "\n",
    "# Procurar os termos na lista de strings\n",
    "resultados = [s for s in bairros_dados_bairros for termo in termos_procurados if termo in s]\n",
    "\n",
    "# Exibir os resultados\n",
    "print(\"Resultados encontrados:\")\n",
    "for resultado in resultados:\n",
    "    print(resultado)\n"
   ]
  },
  {
   "cell_type": "markdown",
   "metadata": {},
   "source": [
    "Como podemos ver, \"Maracanã\", \"Braz de Pina\", \"Senador Vasconcelos\", \"Lins de Vasconcelos\", \"Vila Kosmos\",\"Parque Colúmbia\"e \"Recreio dos Bandeirantes\" já estão na lista do DataFrame dados_bairros, o problema em questão é apenas a grafia que difere, somente \"Vasco da Gama\" não foi encontrado. Após uma breve pesquisa, descobrimos que as grafias corretas são \"Maracanã\", \"Brás de Pina\",\"Senador Vasconcelos\", \"Lins de Vasconcelos\", \"Vila Kosmos\", \"Parque Colúmbia\" e \"Recreio dos Bandeirantes\". Ou seja, as únicas grafias que estão corretas no dados_bairros são as de \"Brás de Pina\" e \"Recreio dos Bandeirantes\". Logo precisamos saber se no df principal estão faltando ou se estão com a grafia errada. "
   ]
  },
  {
   "cell_type": "code",
   "execution_count": 353,
   "metadata": {},
   "outputs": [
    {
     "name": "stdout",
     "output_type": "stream",
     "text": [
      "Resultados encontrados:\n",
      "Recreio dos Bandeirantes\n",
      "Parque Anchieta\n",
      "Maracanã\n",
      "Vila Isabel\n",
      "Senador Camará\n",
      "Braz de Pina\n",
      "Senador Vasconcelos\n",
      "Lins de Vasconcelos\n",
      "Vila Valqueire\n",
      "Vila Kosmos\n",
      "Vila da Penha\n",
      "Parque Colúmbia\n",
      "Recreio Dos Bandeirantes\n",
      "Vasco da Gama\n"
     ]
    }
   ],
   "source": [
    "bairros_dados=dados['Bairro'].unique()\n",
    "\n",
    "# Termos a serem procurados\n",
    "termos_procurados = [\"Mara\", \"Pina\",\"Lin\",\"Vila\",'Sena','Parque','Recreio','Gama']\n",
    "\n",
    "# Procurar os termos na lista de strings\n",
    "resultados = [s for s in bairros_dados for termo in termos_procurados if termo in s]\n",
    "\n",
    "# Exibir os resultados\n",
    "print(\"Resultados encontrados:\")\n",
    "for resultado in resultados:\n",
    "    print(resultado)"
   ]
  },
  {
   "cell_type": "markdown",
   "metadata": {},
   "source": [
    "No df dados os bairros \"Brás de Pina\" e \"Recreio dos Bandeirantes\" estão com a grafia errada. Após verificar isso, vamos substituir em ambos os dataframes pelos nomes corretos e refazer o merge. Como o bairro Vasco da Gama não está contido na nossa lista de bairros do dataframe dados_bairros, vamos precisar adicionar as informações manualmente. Este bairro pertence a Zona Central e a R.A São Cristóvão "
   ]
  },
  {
   "cell_type": "code",
   "execution_count": 354,
   "metadata": {},
   "outputs": [],
   "source": [
    "\n",
    "#Substituindo os nomes\n",
    "substituicoes = {\n",
    "    \"Braz de Pina\": \"Brás de Pina\",\n",
    "    \"Recreio Dos Bandeirantes\": \"Recreio dos Bandeirantes\"\n",
    "}\n",
    "dados['Bairro'] = dados['Bairro'].replace(substituicoes)\n",
    "\n",
    "substituicoes2 = {\n",
    "    \"Maracanâ\": \"Maracanã\",\n",
    "    \"Senador Vasconcellos\": \"Senador Vasconcelos\",\n",
    "    \"Lins de Vasconcellos\": \"Lins de Vasconcelos\",\n",
    "    \"Parque Columbia\": \"Parque Colúmbia\",\n",
    "    \"Vila Cosmos\": \"Vila Kosmos\"\n",
    "}\n",
    "dados_bairros['Bairro'] = dados_bairros['Bairro'].replace(substituicoes2)\n",
    "#Refazendo o merge\n",
    "df_merged = pd.merge(left=dados, right=dados_bairros, how=\"left\", on=\"Bairro\")\n",
    "\n",
    "#Acrescentando os dados do bairro Vasco da Gama\n",
    "filtro = df_merged['Bairro'] == 'Vasco da Gama'\n",
    "df_merged.loc[filtro, 'R.A'] = 'São Cristóvão'\n",
    "df_merged.loc[filtro, 'Região'] = 'Zona Central'"
   ]
  },
  {
   "cell_type": "markdown",
   "metadata": {},
   "source": [
    "Agora podemos verificar se possui apenas as 4 regiões e se todos os bairros foram classificas em uma região."
   ]
  },
  {
   "cell_type": "code",
   "execution_count": 355,
   "metadata": {},
   "outputs": [
    {
     "name": "stdout",
     "output_type": "stream",
     "text": [
      "4\n",
      "['Zona Sul' 'Zona Oeste' 'Zona Norte' 'Zona Central']\n"
     ]
    }
   ],
   "source": [
    "#Checkando se o dataframe possui as 4 entradas únicas na região.\n",
    "print(len(df_merged['Região'].unique()))\n",
    "print(df_merged['Região'].unique())"
   ]
  },
  {
   "cell_type": "code",
   "execution_count": 357,
   "metadata": {},
   "outputs": [
    {
     "data": {
      "text/html": [
       "<div>\n",
       "<style scoped>\n",
       "    .dataframe tbody tr th:only-of-type {\n",
       "        vertical-align: middle;\n",
       "    }\n",
       "\n",
       "    .dataframe tbody tr th {\n",
       "        vertical-align: top;\n",
       "    }\n",
       "\n",
       "    .dataframe thead th {\n",
       "        text-align: right;\n",
       "    }\n",
       "</style>\n",
       "<table border=\"1\" class=\"dataframe\">\n",
       "  <thead>\n",
       "    <tr style=\"text-align: right;\">\n",
       "      <th></th>\n",
       "      <th>Preço</th>\n",
       "      <th>Bairro</th>\n",
       "      <th>Categoria</th>\n",
       "      <th>Quartos</th>\n",
       "      <th>Banheiros</th>\n",
       "      <th>Nº</th>\n",
       "      <th>R.A</th>\n",
       "      <th>Região</th>\n",
       "      <th>IDS</th>\n",
       "    </tr>\n",
       "  </thead>\n",
       "  <tbody>\n",
       "    <tr>\n",
       "      <th>0</th>\n",
       "      <td>R$ 870.000</td>\n",
       "      <td>Botafogo</td>\n",
       "      <td>Apartamentos</td>\n",
       "      <td>1</td>\n",
       "      <td>1</td>\n",
       "      <td>16.0</td>\n",
       "      <td>Botafogo</td>\n",
       "      <td>Zona Sul</td>\n",
       "      <td>743.0</td>\n",
       "    </tr>\n",
       "    <tr>\n",
       "      <th>1</th>\n",
       "      <td>R$ 670.000</td>\n",
       "      <td>Jacarepaguá</td>\n",
       "      <td>Apartamentos</td>\n",
       "      <td>2</td>\n",
       "      <td>2</td>\n",
       "      <td>148.0</td>\n",
       "      <td>Jacarepaguá</td>\n",
       "      <td>Zona Oeste</td>\n",
       "      <td>476.0</td>\n",
       "    </tr>\n",
       "    <tr>\n",
       "      <th>2</th>\n",
       "      <td>R$ 690.000</td>\n",
       "      <td>Recreio dos Bandeirantes</td>\n",
       "      <td>Apartamentos</td>\n",
       "      <td>2</td>\n",
       "      <td>2</td>\n",
       "      <td>56.0</td>\n",
       "      <td>Barra da Tijuca</td>\n",
       "      <td>Zona Oeste</td>\n",
       "      <td>612.0</td>\n",
       "    </tr>\n",
       "    <tr>\n",
       "      <th>3</th>\n",
       "      <td>R$ 500.000</td>\n",
       "      <td>Copacabana</td>\n",
       "      <td>Apartamentos</td>\n",
       "      <td>1</td>\n",
       "      <td>2</td>\n",
       "      <td>14.0</td>\n",
       "      <td>Copacabana</td>\n",
       "      <td>Zona Sul</td>\n",
       "      <td>753.0</td>\n",
       "    </tr>\n",
       "    <tr>\n",
       "      <th>4</th>\n",
       "      <td>R$ 22.000</td>\n",
       "      <td>Santa Cruz</td>\n",
       "      <td>Casas</td>\n",
       "      <td>2</td>\n",
       "      <td>1</td>\n",
       "      <td>147.0</td>\n",
       "      <td>Santa Cruz</td>\n",
       "      <td>Zona Oeste</td>\n",
       "      <td>476.0</td>\n",
       "    </tr>\n",
       "    <tr>\n",
       "      <th>5</th>\n",
       "      <td>R$ 215.000</td>\n",
       "      <td>Parque Anchieta</td>\n",
       "      <td>Apartamentos</td>\n",
       "      <td>2</td>\n",
       "      <td>1</td>\n",
       "      <td>120.0</td>\n",
       "      <td>Anchieta</td>\n",
       "      <td>Zona Norte</td>\n",
       "      <td>540.0</td>\n",
       "    </tr>\n",
       "    <tr>\n",
       "      <th>6</th>\n",
       "      <td>R$ 390.000</td>\n",
       "      <td>Campo Grande</td>\n",
       "      <td>Casas</td>\n",
       "      <td>2</td>\n",
       "      <td>1</td>\n",
       "      <td>129.0</td>\n",
       "      <td>Campo Grande</td>\n",
       "      <td>Zona Oeste</td>\n",
       "      <td>518.0</td>\n",
       "    </tr>\n",
       "    <tr>\n",
       "      <th>7</th>\n",
       "      <td>R$ 400.000</td>\n",
       "      <td>Campo Grande</td>\n",
       "      <td>Casas</td>\n",
       "      <td>2</td>\n",
       "      <td>1</td>\n",
       "      <td>129.0</td>\n",
       "      <td>Campo Grande</td>\n",
       "      <td>Zona Oeste</td>\n",
       "      <td>518.0</td>\n",
       "    </tr>\n",
       "    <tr>\n",
       "      <th>8</th>\n",
       "      <td>R$ 650.000</td>\n",
       "      <td>Santíssimo</td>\n",
       "      <td>Casas</td>\n",
       "      <td>5 ou mais</td>\n",
       "      <td>4</td>\n",
       "      <td>140.0</td>\n",
       "      <td>Campo Grande</td>\n",
       "      <td>Zona Oeste</td>\n",
       "      <td>491.0</td>\n",
       "    </tr>\n",
       "    <tr>\n",
       "      <th>9</th>\n",
       "      <td>R$ 223.000</td>\n",
       "      <td>Guaratiba</td>\n",
       "      <td>Casas</td>\n",
       "      <td>3</td>\n",
       "      <td>3</td>\n",
       "      <td>154.0</td>\n",
       "      <td>Guaratiba</td>\n",
       "      <td>Zona Oeste</td>\n",
       "      <td>433.0</td>\n",
       "    </tr>\n",
       "  </tbody>\n",
       "</table>\n",
       "</div>"
      ],
      "text/plain": [
       "        Preço                    Bairro     Categoria    Quartos Banheiros  \\\n",
       "0  R$ 870.000                  Botafogo  Apartamentos          1         1   \n",
       "1  R$ 670.000               Jacarepaguá  Apartamentos          2         2   \n",
       "2  R$ 690.000  Recreio dos Bandeirantes  Apartamentos          2         2   \n",
       "3  R$ 500.000                Copacabana  Apartamentos          1         2   \n",
       "4   R$ 22.000                Santa Cruz         Casas          2         1   \n",
       "5  R$ 215.000           Parque Anchieta  Apartamentos          2         1   \n",
       "6  R$ 390.000              Campo Grande         Casas          2         1   \n",
       "7  R$ 400.000              Campo Grande         Casas          2         1   \n",
       "8  R$ 650.000                Santíssimo         Casas  5 ou mais         4   \n",
       "9  R$ 223.000                 Guaratiba         Casas          3         3   \n",
       "\n",
       "      Nº              R.A      Região    IDS  \n",
       "0   16.0         Botafogo    Zona Sul  743.0  \n",
       "1  148.0      Jacarepaguá  Zona Oeste  476.0  \n",
       "2   56.0  Barra da Tijuca  Zona Oeste  612.0  \n",
       "3   14.0       Copacabana    Zona Sul  753.0  \n",
       "4  147.0       Santa Cruz  Zona Oeste  476.0  \n",
       "5  120.0         Anchieta  Zona Norte  540.0  \n",
       "6  129.0     Campo Grande  Zona Oeste  518.0  \n",
       "7  129.0     Campo Grande  Zona Oeste  518.0  \n",
       "8  140.0     Campo Grande  Zona Oeste  491.0  \n",
       "9  154.0        Guaratiba  Zona Oeste  433.0  "
      ]
     },
     "execution_count": 357,
     "metadata": {},
     "output_type": "execute_result"
    }
   ],
   "source": [
    "df_merged.head(10)"
   ]
  },
  {
   "cell_type": "code",
   "execution_count": 358,
   "metadata": {},
   "outputs": [
    {
     "name": "stdout",
     "output_type": "stream",
     "text": [
      "Preço          28\n",
      "Bairro          0\n",
      "Categoria       0\n",
      "Quartos      1829\n",
      "Banheiros    1839\n",
      "Nº              2\n",
      "R.A             0\n",
      "Região          0\n",
      "IDS             2\n",
      "dtype: int64\n"
     ]
    }
   ],
   "source": [
    "#Número de linhas com valores faltantes por coluna\n",
    "print(df_merged.isna().sum())\n"
   ]
  },
  {
   "cell_type": "code",
   "execution_count": 359,
   "metadata": {},
   "outputs": [],
   "source": [
    "#Renomeando os dados\n",
    "dados = df_merged.copy()"
   ]
  },
  {
   "cell_type": "markdown",
   "metadata": {},
   "source": [
    "Como podemos ver, ainda restam algumas linhas com valores faltantes. Elas poderiam ser removidas. Entretanto elas serão mantidas, pois dependendo do tipo de análise feita, elas podem ser interessantes."
   ]
  },
  {
   "cell_type": "markdown",
   "metadata": {},
   "source": [
    "Em um próximo trabalho essa base será utilizada para o ajuste de uma regressão."
   ]
  }
 ],
 "metadata": {
  "kernelspec": {
   "display_name": "Python 3",
   "language": "python",
   "name": "python3"
  },
  "language_info": {
   "codemirror_mode": {
    "name": "ipython",
    "version": 3
   },
   "file_extension": ".py",
   "mimetype": "text/x-python",
   "name": "python",
   "nbconvert_exporter": "python",
   "pygments_lexer": "ipython3",
   "version": "3.11.5"
  }
 },
 "nbformat": 4,
 "nbformat_minor": 2
}
